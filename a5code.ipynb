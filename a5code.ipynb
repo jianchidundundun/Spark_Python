{
 "cells": [
  {
   "cell_type": "code",
   "execution_count": 22,
   "id": "b0528931-57dd-4a49-87d5-30df80dc3202",
   "metadata": {
    "tags": []
   },
   "outputs": [],
   "source": [
    "from pyspark.sql import SparkSession\n",
    "from pyspark.sql import SparkSession\n",
    "from pyspark.sql.functions import udf\n",
    "from pyspark.sql.types import StringType\n",
    "from pyspark.sql.functions import udf, split, explode\n",
    "from pyspark.sql.functions import substring\n",
    "from pyspark.sql import Window"
   ]
  },
  {
   "cell_type": "code",
   "execution_count": 2,
   "id": "8cef4346-e8bc-4e6e-84ab-1b3050186100",
   "metadata": {
    "tags": []
   },
   "outputs": [],
   "source": [
    "spark = SparkSession.builder \\\n",
    "    .appName(\"QueryLogProcessing\") \\\n",
    "    .getOrCreate()"
   ]
  },
  {
   "cell_type": "code",
   "execution_count": 3,
   "id": "490dbb4b-c226-45a9-bec3-a1987ada7c7e",
   "metadata": {
    "tags": []
   },
   "outputs": [],
   "source": [
    "data = spark.read.csv(\"search_data.sample\", sep=\"\\t\", header=True)"
   ]
  },
  {
   "cell_type": "code",
   "execution_count": 4,
   "id": "a4deb0d8-53dc-405c-9fdf-def49769f7e2",
   "metadata": {
    "tags": []
   },
   "outputs": [],
   "source": [
    "# 定义处理函数来提取点击URL的特定部分\n",
    "def extract_url(url):\n",
    "    return url.split(\"/\")[0]"
   ]
  },
  {
   "cell_type": "code",
   "execution_count": 8,
   "id": "d92353e6-d00d-4c12-9d04-e3e151cae718",
   "metadata": {
    "tags": []
   },
   "outputs": [],
   "source": [
    "extract_url_udf = udf(extract_url, StringType())"
   ]
  },
  {
   "cell_type": "code",
   "execution_count": 9,
   "id": "8e19658d-8046-4e84-9de4-fbc67a465a47",
   "metadata": {
    "tags": []
   },
   "outputs": [],
   "source": [
    "processed_data = data.withColumn(\"clickUrl\", extract_url_udf(\"clickUrl\"))"
   ]
  },
  {
   "cell_type": "code",
   "execution_count": 10,
   "id": "9903affb-d596-4c13-90b6-38598607696b",
   "metadata": {
    "tags": []
   },
   "outputs": [
    {
     "name": "stdout",
     "output_type": "stream",
     "text": [
      "+---------+--------+--------------------+\n",
      "|queryTime|  userId|            clickUrl|\n",
      "+---------+--------+--------------------+\n",
      "|  0:00:00|2.98E+15|  download.it.com.cn|\n",
      "|  0:00:00|7.59E+15|       news.21cn.com|\n",
      "|  0:00:00|5.23E+15|     www.greatoo.com|\n",
      "|  0:00:00|6.14E+15|       www.jd-cd.com|\n",
      "|  0:00:00|8.56E+15|       www.big38.net|\n",
      "|  0:00:00|2.39E+16|  www.chinabaike.com|\n",
      "|  0:00:00|1.80E+15|        www.6wei.net|\n",
      "|  0:00:00|7.18E+14|    www.shanziba.com|\n",
      "|  0:00:00|4.14E+16|       bbs.gouzai.cn|\n",
      "|  0:00:00|9.98E+15|     ks.cn.yahoo.com|\n",
      "|  0:00:00|2.16E+16|  www.fotolog.com.cn|\n",
      "|  0:00:00|7.42E+15|     ks.cn.yahoo.com|\n",
      "|  0:00:00|6.17E+14|    topic.bindou.com|\n",
      "|  0:00:00|3.93E+15|     ks.cn.yahoo.com|\n",
      "|  0:00:00|8.24E+15|shwamlys.blog.soh...|\n",
      "|  0:00:00|8.25E+15|  download.it168.com|\n",
      "|  0:00:00|6.24E+15|   www.songtaste.com|\n",
      "|  0:00:00|6.55E+15|   product.it168.com|\n",
      "|  0:00:00|2.35E+15|    pic.news.mop.com|\n",
      "|  0:00:00|6.48E+15|       www.1000dy.cn|\n",
      "+---------+--------+--------------------+\n",
      "only showing top 20 rows\n",
      "\n"
     ]
    }
   ],
   "source": [
    "processed_data.show()"
   ]
  },
  {
   "cell_type": "code",
   "execution_count": 11,
   "id": "785f2d1b-f1da-4241-8867-c16311e164d9",
   "metadata": {
    "tags": []
   },
   "outputs": [],
   "source": [
    "processed_data.write.csv(\"processed_data\", header=True)"
   ]
  },
  {
   "cell_type": "code",
   "execution_count": 26,
   "id": "5b229821-1767-4ab7-a971-fdc816a6154a",
   "metadata": {
    "tags": []
   },
   "outputs": [],
   "source": [
    "def rank_tokens(data):\n",
    "\n",
    "    tokenized_data = data.withColumn(\"tokens\", explode(split(data.clickUrl, \"\\\\.\")))  # 使用转义符对`.`进行匹配\n",
    "\n",
    "    token_counts = tokenized_data.groupBy(\"tokens\").count().orderBy(\"count\", ascending=False)\n",
    "    \n",
    "\n",
    "    top_ten_tokens = token_counts.limit(10)\n",
    "    \n",
    "\n",
    "    formatted_output = \" \".join([f\"({row.tokens}, {row['count']})\" for row in top_ten_tokens.collect()])\n",
    "    \n",
    "\n",
    "    print(formatted_output)\n",
    "\n",
    "\n"
   ]
  },
  {
   "cell_type": "code",
   "execution_count": 27,
   "id": "9b15f97a-ef55-42a4-84d3-3cddd519469b",
   "metadata": {
    "tags": []
   },
   "outputs": [
    {
     "name": "stdout",
     "output_type": "stream",
     "text": [
      "(com, 7935) (www, 4184) (cn, 2362) (baidu, 779) (news, 641) (net, 603) (zhidao, 530) (sina, 501) (bbs, 496) (sohu, 416)\n"
     ]
    }
   ],
   "source": [
    "rank_tokens(processed_data)"
   ]
  },
  {
   "cell_type": "code",
   "execution_count": 23,
   "id": "166925dd-eb3c-482b-bdef-17fab9502cec",
   "metadata": {
    "tags": []
   },
   "outputs": [],
   "source": [
    "def rank_time_periods(data):\n",
    "    # Extract the minute portion from the queryTime column\n",
    "    data = data.withColumn(\"minute\", substring(data.queryTime, 4, 5))\n",
    "\n",
    "    # Group the data by minute and count the number of queries for each minute\n",
    "    query_counts = data.groupBy(\"minute\").count()\n",
    "\n",
    "    # Sort the results in descending order of the query count\n",
    "    query_counts = query_counts.orderBy(query_counts[\"count\"].desc())\n",
    "\n",
    "    # Select the top ten time periods with the highest query count\n",
    "    top_ten_periods = query_counts.limit(10)\n",
    "\n",
    "    # Format the output as a string\n",
    "    formatted_output = \" \".join([f\"({row.minute}, {row['count']})\" for row in top_ten_periods.collect()])\n",
    "\n",
    "    # Display the result\n",
    "    print(formatted_output)"
   ]
  },
  {
   "cell_type": "code",
   "execution_count": 24,
   "id": "d898aa14-c43a-41e6-9281-5e65c15724c1",
   "metadata": {
    "tags": []
   },
   "outputs": [
    {
     "name": "stdout",
     "output_type": "stream",
     "text": [
      "(1:00, 31) (0:00, 29) (3:11, 28) (1:57, 28) (1:38, 28) (3:53, 28) (3:23, 27) (6:21, 27) (2:23, 27) (5:13, 27)\n"
     ]
    }
   ],
   "source": [
    "# Execute the time period ranking task\n",
    "rank_time_periods(processed_data)"
   ]
  },
  {
   "cell_type": "code",
   "execution_count": null,
   "id": "1baf086b-8517-4bbe-96cf-b89bbd8fd53a",
   "metadata": {},
   "outputs": [],
   "source": []
  }
 ],
 "metadata": {
  "kernelspec": {
   "display_name": "Python 3 (ipykernel)",
   "language": "python",
   "name": "python3"
  },
  "language_info": {
   "codemirror_mode": {
    "name": "ipython",
    "version": 3
   },
   "file_extension": ".py",
   "mimetype": "text/x-python",
   "name": "python",
   "nbconvert_exporter": "python",
   "pygments_lexer": "ipython3",
   "version": "3.10.11"
  }
 },
 "nbformat": 4,
 "nbformat_minor": 5
}
